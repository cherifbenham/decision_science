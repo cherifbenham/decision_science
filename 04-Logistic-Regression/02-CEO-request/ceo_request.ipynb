{
 "cells": [
  {
   "cell_type": "markdown",
   "metadata": {
    "slideshow": {
     "slide_type": "slide"
    }
   },
   "source": [
    "# CEO-Request Challenge"
   ]
  },
  {
   "cell_type": "markdown",
   "metadata": {
    "slideshow": {
     "slide_type": "skip"
    }
   },
   "source": [
    "## 1. Problem statement (summarized)\n",
    "\n",
    ">❓ How should Olist improve its profit margin ❓, given that it has \n",
    "> - some revenues per sellers per months\n",
    "> - some revenues per orders\n",
    "> - some reputation costs (estimated) per bad reviews\n",
    "> - some operational costs of IT system that grows with number of orders, but not linearly (scale effects)\n",
    "\n",
    "\n",
    "Let's recap our key findings so far :\n",
    "- We have seen that `wait_time` was the most significant factor behind low review scores, but reading comments of the bad reviews also showed that some of them were linked to the seller or to the product itself.\n",
    "- `wait_time` is made up of seller's `delay_to_carrier` + `carrier_delivery_time`. The latter being outside of Olist's direct control, improving it is not a quick-win recommendation we can make to Olist CEO without in-depth analysis of their operational practices.\n",
    "- On the contrary, a better selection of `sellers` can positively impact the `delay_to_carrier` and reduce the number of bad `review_scores` on Olist.\n",
    "\n",
    "👉 We recommend you to start with the the seller analysis 1.1) below, but feel free to investigate into other hypothesis instead 1.2)"
   ]
  },
  {
   "cell_type": "markdown",
   "metadata": {},
   "source": [
    "### 1.1 (recommended) **Should Olist remove underperforming sellers from its marketplace ?** 🕵🏻"
   ]
  },
  {
   "cell_type": "markdown",
   "metadata": {},
   "source": [
    "To analyse the impact of removing the worse sellers from Olist's marketplace, we will perform a what-if analysis: What would have happened if Olist had never accepted these sellers in the first place? (granted, it's hard to know in advance who is a good seller, but let's start with this and iterate later).\n",
    "\n",
    "1️⃣ Compute, for each `seller_id`, and cumulated since the beginning:\n",
    "- the `revenues` it brings\n",
    "- the `costs` associated with all its bad reviews\n",
    "- the resulting `profits` (revenues - costs)\n",
    "- the number of `orders` (it will impact the overall IT costs)\n",
    "\n",
    "\n",
    "2️⃣ We can then:\n",
    "- sort sellers by increasing profits for Olist\n",
    "- for each number of sellers to remove, compute the financial impact it would have made if they had never been accepted on the platform. \n",
    "- we may find an optimal number of sellers to remove that maximizes Olist's profit margin\n",
    "\n",
    "👉 Write down a detailed strategy (step by step) to create the DataFrame you need for the first step.\n",
    "\n",
    "<br>\n",
    "\n",
    "<details>\n",
    "    <summary> <i>💡 Think about how to re-use or update the logic you've already coded in your 🗂 `olist` package</i> </summary>\n",
    "\n",
    "\n",
    "Starting from your current `seller().get_training_data()` DataFrame, can you easily transform it to compute:\n",
    "- Olist's positive `revenue_per_seller`? \n",
    "- Olist's `cost_of_bad_reviews`?\n",
    "\n",
    "You will orally present your insights to your favorite TA at the end of this unit `Communicate` \"\n",
    "</details>\n"
   ]
  },
  {
   "cell_type": "markdown",
   "metadata": {
    "slideshow": {
     "slide_type": "skip"
    }
   },
   "source": [
    "### 1.2 (optional): Here are other hypothesis you may want to investigate instead\n",
    "\n",
    "- Should Olist remove the worst performing products / categories from its marketplace entirely?\n",
    "- Should Olist remove only consistently underperforming sellers, after it has a honeymoon period of few months?\n",
    "- Should Olist restrict seller/customer pairs between certain states to avoid delays?\n",
    "- Should Olist acquire new sellers, with some cost assumptions to be suggested?\n",
    "- ...\n"
   ]
  },
  {
   "cell_type": "markdown",
   "metadata": {
    "slideshow": {
     "slide_type": "slide"
    }
   },
   "source": [
    "## PnL Analysis >>> Revenues & Costs >>> Seller Selection"
   ]
  },
  {
   "cell_type": "markdown",
   "metadata": {
    "slideshow": {
     "slide_type": "slide"
    }
   },
   "source": [
    "### What are the revenues per seller, and the profits all time (per seller) ###"
   ]
  },
  {
   "cell_type": "code",
   "execution_count": 96,
   "metadata": {
    "slideshow": {
     "slide_type": "skip"
    }
   },
   "outputs": [],
   "source": [
    "import pandas as pd\n",
    "import matplotlib.pyplot as plt"
   ]
  },
  {
   "cell_type": "code",
   "execution_count": 97,
   "metadata": {
    "slideshow": {
     "slide_type": "skip"
    }
   },
   "outputs": [
    {
     "name": "stdout",
     "output_type": "stream",
     "text": [
      "The autoreload extension is already loaded. To reload it, use:\n",
      "  %reload_ext autoreload\n"
     ]
    }
   ],
   "source": [
    "%load_ext autoreload\n",
    "%autoreload 2"
   ]
  },
  {
   "cell_type": "code",
   "execution_count": 98,
   "metadata": {
    "slideshow": {
     "slide_type": "skip"
    }
   },
   "outputs": [],
   "source": [
    "from olist.seller import Seller\n",
    "seller = Seller()\n",
    "sellers = seller.get_training_data()"
   ]
  },
  {
   "cell_type": "markdown",
   "metadata": {
    "slideshow": {
     "slide_type": "slide"
    }
   },
   "source": [
    "> Compute the revenues stream"
   ]
  },
  {
   "cell_type": "code",
   "execution_count": 99,
   "metadata": {
    "slideshow": {
     "slide_type": "subslide"
    }
   },
   "outputs": [
    {
     "data": {
      "text/html": [
       "<div>\n",
       "<style scoped>\n",
       "    .dataframe tbody tr th:only-of-type {\n",
       "        vertical-align: middle;\n",
       "    }\n",
       "\n",
       "    .dataframe tbody tr th {\n",
       "        vertical-align: top;\n",
       "    }\n",
       "\n",
       "    .dataframe thead th {\n",
       "        text-align: right;\n",
       "    }\n",
       "</style>\n",
       "<table border=\"1\" class=\"dataframe\">\n",
       "  <thead>\n",
       "    <tr style=\"text-align: right;\">\n",
       "      <th></th>\n",
       "      <th>seller_id</th>\n",
       "      <th>rev1</th>\n",
       "      <th>rev2</th>\n",
       "      <th>rev</th>\n",
       "    </tr>\n",
       "  </thead>\n",
       "  <tbody>\n",
       "    <tr>\n",
       "      <th>0</th>\n",
       "      <td>3442f8959a84dea7ee197c632cb2df15</td>\n",
       "      <td>22.0</td>\n",
       "      <td>320.0</td>\n",
       "      <td>342.0</td>\n",
       "    </tr>\n",
       "    <tr>\n",
       "      <th>1</th>\n",
       "      <td>d1b65fc7debc3361ea86b5f14c68d2e2</td>\n",
       "      <td>1170.0</td>\n",
       "      <td>1120.0</td>\n",
       "      <td>2290.0</td>\n",
       "    </tr>\n",
       "    <tr>\n",
       "      <th>2</th>\n",
       "      <td>ce3ad9de960102d0677a81f5d0bb7b2d</td>\n",
       "      <td>16.0</td>\n",
       "      <td>0.0</td>\n",
       "      <td>16.0</td>\n",
       "    </tr>\n",
       "    <tr>\n",
       "      <th>3</th>\n",
       "      <td>c0f3eea2e14555b6faeea3dd58c1b1c3</td>\n",
       "      <td>8.0</td>\n",
       "      <td>0.0</td>\n",
       "      <td>8.0</td>\n",
       "    </tr>\n",
       "    <tr>\n",
       "      <th>4</th>\n",
       "      <td>51a04a8a6bdcb23deccc82b0b80742cf</td>\n",
       "      <td>17.0</td>\n",
       "      <td>0.0</td>\n",
       "      <td>17.0</td>\n",
       "    </tr>\n",
       "    <tr>\n",
       "      <th>...</th>\n",
       "      <td>...</td>\n",
       "      <td>...</td>\n",
       "      <td>...</td>\n",
       "      <td>...</td>\n",
       "    </tr>\n",
       "    <tr>\n",
       "      <th>2962</th>\n",
       "      <td>98dddbc4601dd4443ca174359b237166</td>\n",
       "      <td>16.0</td>\n",
       "      <td>0.0</td>\n",
       "      <td>16.0</td>\n",
       "    </tr>\n",
       "    <tr>\n",
       "      <th>2963</th>\n",
       "      <td>f8201cab383e484733266d1906e2fdfa</td>\n",
       "      <td>89.0</td>\n",
       "      <td>1120.0</td>\n",
       "      <td>1209.0</td>\n",
       "    </tr>\n",
       "    <tr>\n",
       "      <th>2964</th>\n",
       "      <td>74871d19219c7d518d0090283e03c137</td>\n",
       "      <td>55.0</td>\n",
       "      <td>400.0</td>\n",
       "      <td>455.0</td>\n",
       "    </tr>\n",
       "    <tr>\n",
       "      <th>2965</th>\n",
       "      <td>e603cf3fec55f8697c9059638d6c8eb5</td>\n",
       "      <td>30.0</td>\n",
       "      <td>320.0</td>\n",
       "      <td>350.0</td>\n",
       "    </tr>\n",
       "    <tr>\n",
       "      <th>2966</th>\n",
       "      <td>9e25199f6ef7e7c347120ff175652c3b</td>\n",
       "      <td>1.0</td>\n",
       "      <td>0.0</td>\n",
       "      <td>1.0</td>\n",
       "    </tr>\n",
       "  </tbody>\n",
       "</table>\n",
       "<p>2967 rows × 4 columns</p>\n",
       "</div>"
      ],
      "text/plain": [
       "                             seller_id    rev1    rev2     rev\n",
       "0     3442f8959a84dea7ee197c632cb2df15    22.0   320.0   342.0\n",
       "1     d1b65fc7debc3361ea86b5f14c68d2e2  1170.0  1120.0  2290.0\n",
       "2     ce3ad9de960102d0677a81f5d0bb7b2d    16.0     0.0    16.0\n",
       "3     c0f3eea2e14555b6faeea3dd58c1b1c3     8.0     0.0     8.0\n",
       "4     51a04a8a6bdcb23deccc82b0b80742cf    17.0     0.0    17.0\n",
       "...                                ...     ...     ...     ...\n",
       "2962  98dddbc4601dd4443ca174359b237166    16.0     0.0    16.0\n",
       "2963  f8201cab383e484733266d1906e2fdfa    89.0  1120.0  1209.0\n",
       "2964  74871d19219c7d518d0090283e03c137    55.0   400.0   455.0\n",
       "2965  e603cf3fec55f8697c9059638d6c8eb5    30.0   320.0   350.0\n",
       "2966  9e25199f6ef7e7c347120ff175652c3b     1.0     0.0     1.0\n",
       "\n",
       "[2967 rows x 4 columns]"
      ]
     },
     "execution_count": 99,
     "metadata": {},
     "output_type": "execute_result"
    }
   ],
   "source": [
    "sellers['rev1'] = 0.1 * sellers['sales']\n",
    "sellers['rev2'] = 80 * sellers['months_on_olist']\n",
    "sellers['rev'] = sellers['rev1'] + sellers['rev2']\n",
    "sellers[['seller_id', 'rev1', 'rev2', 'rev']].round()"
   ]
  },
  {
   "cell_type": "markdown",
   "metadata": {
    "slideshow": {
     "slide_type": "slide"
    }
   },
   "source": [
    ">> What is the distribution of revenues over sellers ?"
   ]
  },
  {
   "cell_type": "code",
   "execution_count": 100,
   "metadata": {
    "slideshow": {
     "slide_type": "subslide"
    }
   },
   "outputs": [
    {
     "data": {
      "text/plain": [
       "<AxesSubplot:ylabel='Frequency'>"
      ]
     },
     "execution_count": 100,
     "metadata": {},
     "output_type": "execute_result"
    },
    {
     "data": {
      "image/png": "[encoded data removed]",
      "text/plain": [
       "<Figure size 432x288 with 1 Axes>"
      ]
     },
     "metadata": {
      "needs_background": "light"
     },
     "output_type": "display_data"
    }
   ],
   "source": [
    "sellers['rev'].sort_values().plot.hist(range = (0, 5000))"
   ]
  },
  {
   "cell_type": "markdown",
   "metadata": {
    "slideshow": {
     "slide_type": "slide"
    }
   },
   "source": [
    ">> What is the cost distribution over sellers"
   ]
  },
  {
   "cell_type": "code",
   "execution_count": 101,
   "metadata": {
    "slideshow": {
     "slide_type": "subslide"
    }
   },
   "outputs": [
    {
     "data": {
      "text/html": [
       "<div>\n",
       "<style scoped>\n",
       "    .dataframe tbody tr th:only-of-type {\n",
       "        vertical-align: middle;\n",
       "    }\n",
       "\n",
       "    .dataframe tbody tr th {\n",
       "        vertical-align: top;\n",
       "    }\n",
       "\n",
       "    .dataframe thead th {\n",
       "        text-align: right;\n",
       "    }\n",
       "</style>\n",
       "<table border=\"1\" class=\"dataframe\">\n",
       "  <thead>\n",
       "    <tr style=\"text-align: right;\">\n",
       "      <th></th>\n",
       "      <th>seller_id</th>\n",
       "      <th>cost_1</th>\n",
       "      <th>cost_2</th>\n",
       "      <th>cost_3</th>\n",
       "      <th>cost_br</th>\n",
       "    </tr>\n",
       "  </thead>\n",
       "  <tbody>\n",
       "    <tr>\n",
       "      <th>0</th>\n",
       "      <td>3442f8959a84dea7ee197c632cb2df15</td>\n",
       "      <td>100.0</td>\n",
       "      <td>0.0</td>\n",
       "      <td>40.0</td>\n",
       "      <td>140.0</td>\n",
       "    </tr>\n",
       "    <tr>\n",
       "      <th>1</th>\n",
       "      <td>d1b65fc7debc3361ea86b5f14c68d2e2</td>\n",
       "      <td>200.0</td>\n",
       "      <td>0.0</td>\n",
       "      <td>40.0</td>\n",
       "      <td>240.0</td>\n",
       "    </tr>\n",
       "    <tr>\n",
       "      <th>2</th>\n",
       "      <td>ce3ad9de960102d0677a81f5d0bb7b2d</td>\n",
       "      <td>0.0</td>\n",
       "      <td>0.0</td>\n",
       "      <td>0.0</td>\n",
       "      <td>0.0</td>\n",
       "    </tr>\n",
       "    <tr>\n",
       "      <th>3</th>\n",
       "      <td>c0f3eea2e14555b6faeea3dd58c1b1c3</td>\n",
       "      <td>0.0</td>\n",
       "      <td>0.0</td>\n",
       "      <td>0.0</td>\n",
       "      <td>0.0</td>\n",
       "    </tr>\n",
       "    <tr>\n",
       "      <th>4</th>\n",
       "      <td>51a04a8a6bdcb23deccc82b0b80742cf</td>\n",
       "      <td>100.0</td>\n",
       "      <td>0.0</td>\n",
       "      <td>0.0</td>\n",
       "      <td>100.0</td>\n",
       "    </tr>\n",
       "    <tr>\n",
       "      <th>...</th>\n",
       "      <td>...</td>\n",
       "      <td>...</td>\n",
       "      <td>...</td>\n",
       "      <td>...</td>\n",
       "      <td>...</td>\n",
       "    </tr>\n",
       "    <tr>\n",
       "      <th>2962</th>\n",
       "      <td>98dddbc4601dd4443ca174359b237166</td>\n",
       "      <td>0.0</td>\n",
       "      <td>0.0</td>\n",
       "      <td>0.0</td>\n",
       "      <td>0.0</td>\n",
       "    </tr>\n",
       "    <tr>\n",
       "      <th>2963</th>\n",
       "      <td>f8201cab383e484733266d1906e2fdfa</td>\n",
       "      <td>100.0</td>\n",
       "      <td>0.0</td>\n",
       "      <td>40.0</td>\n",
       "      <td>140.0</td>\n",
       "    </tr>\n",
       "    <tr>\n",
       "      <th>2964</th>\n",
       "      <td>74871d19219c7d518d0090283e03c137</td>\n",
       "      <td>0.0</td>\n",
       "      <td>0.0</td>\n",
       "      <td>0.0</td>\n",
       "      <td>0.0</td>\n",
       "    </tr>\n",
       "    <tr>\n",
       "      <th>2965</th>\n",
       "      <td>e603cf3fec55f8697c9059638d6c8eb5</td>\n",
       "      <td>0.0</td>\n",
       "      <td>50.0</td>\n",
       "      <td>0.0</td>\n",
       "      <td>50.0</td>\n",
       "    </tr>\n",
       "    <tr>\n",
       "      <th>2966</th>\n",
       "      <td>9e25199f6ef7e7c347120ff175652c3b</td>\n",
       "      <td>0.0</td>\n",
       "      <td>0.0</td>\n",
       "      <td>0.0</td>\n",
       "      <td>0.0</td>\n",
       "    </tr>\n",
       "  </tbody>\n",
       "</table>\n",
       "<p>2967 rows × 5 columns</p>\n",
       "</div>"
      ],
      "text/plain": [
       "                             seller_id  cost_1  cost_2  cost_3  cost_br\n",
       "0     3442f8959a84dea7ee197c632cb2df15   100.0     0.0    40.0    140.0\n",
       "1     d1b65fc7debc3361ea86b5f14c68d2e2   200.0     0.0    40.0    240.0\n",
       "2     ce3ad9de960102d0677a81f5d0bb7b2d     0.0     0.0     0.0      0.0\n",
       "3     c0f3eea2e14555b6faeea3dd58c1b1c3     0.0     0.0     0.0      0.0\n",
       "4     51a04a8a6bdcb23deccc82b0b80742cf   100.0     0.0     0.0    100.0\n",
       "...                                ...     ...     ...     ...      ...\n",
       "2962  98dddbc4601dd4443ca174359b237166     0.0     0.0     0.0      0.0\n",
       "2963  f8201cab383e484733266d1906e2fdfa   100.0     0.0    40.0    140.0\n",
       "2964  74871d19219c7d518d0090283e03c137     0.0     0.0     0.0      0.0\n",
       "2965  e603cf3fec55f8697c9059638d6c8eb5     0.0    50.0     0.0     50.0\n",
       "2966  9e25199f6ef7e7c347120ff175652c3b     0.0     0.0     0.0      0.0\n",
       "\n",
       "[2967 rows x 5 columns]"
      ]
     },
     "execution_count": 101,
     "metadata": {},
     "output_type": "execute_result"
    }
   ],
   "source": [
    "#compute the costs streams, based on share of bad stars\n",
    "sellers['cost_1'] = 100 * sellers['n_orders'] * sellers['share_of_one_stars']\n",
    "sellers['cost_2'] = 50 * sellers['n_orders'] * sellers['share_of_two_stars']\n",
    "sellers['cost_3'] = 40 * sellers['n_orders'] * sellers['share_of_three_stars']\n",
    "\n",
    "#cost of bad reviews\n",
    "sellers['cost_br'] = sellers['cost_1'] + sellers['cost_2'] + sellers['cost_3']\n",
    "\n",
    "#show\n",
    "sellers[['seller_id', 'cost_1', 'cost_2', 'cost_3', 'cost_br']]"
   ]
  },
  {
   "cell_type": "code",
   "execution_count": 102,
   "metadata": {
    "slideshow": {
     "slide_type": "subslide"
    }
   },
   "outputs": [
    {
     "data": {
      "text/plain": [
       "<AxesSubplot:ylabel='Frequency'>"
      ]
     },
     "execution_count": 102,
     "metadata": {},
     "output_type": "execute_result"
    },
    {
     "data": {
      "image/png": "[encoded data removed]",
      "text/plain": [
       "<Figure size 432x288 with 1 Axes>"
      ]
     },
     "metadata": {
      "needs_background": "light"
     },
     "output_type": "display_data"
    }
   ],
   "source": [
    "sellers.cost_br.plot.hist(range=(0, 5000))"
   ]
  },
  {
   "cell_type": "markdown",
   "metadata": {
    "slideshow": {
     "slide_type": "slide"
    }
   },
   "source": [
    ">> How do the profits look like ?"
   ]
  },
  {
   "cell_type": "code",
   "execution_count": 103,
   "metadata": {
    "slideshow": {
     "slide_type": "subslide"
    }
   },
   "outputs": [
    {
     "data": {
      "text/html": [
       "<div>\n",
       "<style scoped>\n",
       "    .dataframe tbody tr th:only-of-type {\n",
       "        vertical-align: middle;\n",
       "    }\n",
       "\n",
       "    .dataframe tbody tr th {\n",
       "        vertical-align: top;\n",
       "    }\n",
       "\n",
       "    .dataframe thead th {\n",
       "        text-align: right;\n",
       "    }\n",
       "</style>\n",
       "<table border=\"1\" class=\"dataframe\">\n",
       "  <thead>\n",
       "    <tr style=\"text-align: right;\">\n",
       "      <th></th>\n",
       "      <th>profits</th>\n",
       "    </tr>\n",
       "  </thead>\n",
       "  <tbody>\n",
       "    <tr>\n",
       "      <th>count</th>\n",
       "      <td>2967.0</td>\n",
       "    </tr>\n",
       "    <tr>\n",
       "      <th>mean</th>\n",
       "      <td>392.0</td>\n",
       "    </tr>\n",
       "    <tr>\n",
       "      <th>std</th>\n",
       "      <td>1249.0</td>\n",
       "    </tr>\n",
       "    <tr>\n",
       "      <th>min</th>\n",
       "      <td>-21711.0</td>\n",
       "    </tr>\n",
       "    <tr>\n",
       "      <th>25%</th>\n",
       "      <td>21.0</td>\n",
       "    </tr>\n",
       "    <tr>\n",
       "      <th>50%</th>\n",
       "      <td>254.0</td>\n",
       "    </tr>\n",
       "    <tr>\n",
       "      <th>75%</th>\n",
       "      <td>689.0</td>\n",
       "    </tr>\n",
       "    <tr>\n",
       "      <th>max</th>\n",
       "      <td>18039.0</td>\n",
       "    </tr>\n",
       "  </tbody>\n",
       "</table>\n",
       "</div>"
      ],
      "text/plain": [
       "       profits\n",
       "count   2967.0\n",
       "mean     392.0\n",
       "std     1249.0\n",
       "min   -21711.0\n",
       "25%       21.0\n",
       "50%      254.0\n",
       "75%      689.0\n",
       "max    18039.0"
      ]
     },
     "execution_count": 103,
     "metadata": {},
     "output_type": "execute_result"
    }
   ],
   "source": [
    "# compute the profits\n",
    "sellers['profits'] = sellers['rev'] - sellers['cost_br']\n",
    "\n",
    "#show\n",
    "sellers[['profits']].describe().round()"
   ]
  },
  {
   "cell_type": "markdown",
   "metadata": {
    "slideshow": {
     "slide_type": "subslide"
    }
   },
   "source": [
    ">> What is the profits distribution over sellers"
   ]
  },
  {
   "cell_type": "code",
   "execution_count": 104,
   "metadata": {
    "slideshow": {
     "slide_type": "subslide"
    }
   },
   "outputs": [
    {
     "data": {
      "text/plain": [
       "<AxesSubplot:ylabel='Frequency'>"
      ]
     },
     "execution_count": 104,
     "metadata": {},
     "output_type": "execute_result"
    },
    {
     "data": {
      "image/png": "[encoded data removed]",
      "text/plain": [
       "<Figure size 432x288 with 1 Axes>"
      ]
     },
     "metadata": {
      "needs_background": "light"
     },
     "output_type": "display_data"
    }
   ],
   "source": [
    "sellers.profits.plot.hist(range=(-5000, 5000))"
   ]
  },
  {
   "cell_type": "markdown",
   "metadata": {
    "slideshow": {
     "slide_type": "slide"
    }
   },
   "source": [
    ">> What if we cut those dealers which negative profit\n",
    ">>> First we need to discount the IT-related costs"
   ]
  },
  {
   "cell_type": "code",
   "execution_count": 105,
   "metadata": {
    "slideshow": {
     "slide_type": "subslide"
    }
   },
   "outputs": [
    {
     "data": {
      "text/html": [
       "<div>\n",
       "<style scoped>\n",
       "    .dataframe tbody tr th:only-of-type {\n",
       "        vertical-align: middle;\n",
       "    }\n",
       "\n",
       "    .dataframe tbody tr th {\n",
       "        vertical-align: top;\n",
       "    }\n",
       "\n",
       "    .dataframe thead th {\n",
       "        text-align: right;\n",
       "    }\n",
       "</style>\n",
       "<table border=\"1\" class=\"dataframe\">\n",
       "  <thead>\n",
       "    <tr style=\"text-align: right;\">\n",
       "      <th></th>\n",
       "      <th>seller_id</th>\n",
       "      <th>rev</th>\n",
       "      <th>cost_br</th>\n",
       "      <th>profits</th>\n",
       "      <th>n_orders</th>\n",
       "    </tr>\n",
       "  </thead>\n",
       "  <tbody>\n",
       "    <tr>\n",
       "      <th>769</th>\n",
       "      <td>6560211a19b47992c3666cc44a7e94c0</td>\n",
       "      <td>13770.0</td>\n",
       "      <td>35481.0</td>\n",
       "      <td>-21711.0</td>\n",
       "      <td>1854</td>\n",
       "    </tr>\n",
       "    <tr>\n",
       "      <th>2358</th>\n",
       "      <td>4a3ca9315b744ce9f8e9374361493884</td>\n",
       "      <td>21647.0</td>\n",
       "      <td>39509.0</td>\n",
       "      <td>-17862.0</td>\n",
       "      <td>1806</td>\n",
       "    </tr>\n",
       "    <tr>\n",
       "      <th>1357</th>\n",
       "      <td>cc419e0650a3c5ba77189a1882b7556a</td>\n",
       "      <td>11949.0</td>\n",
       "      <td>28953.0</td>\n",
       "      <td>-17004.0</td>\n",
       "      <td>1706</td>\n",
       "    </tr>\n",
       "    <tr>\n",
       "      <th>945</th>\n",
       "      <td>ea8482cd71df3c1969d7b9473ff13abc</td>\n",
       "      <td>4678.0</td>\n",
       "      <td>20309.0</td>\n",
       "      <td>-15631.0</td>\n",
       "      <td>1146</td>\n",
       "    </tr>\n",
       "    <tr>\n",
       "      <th>315</th>\n",
       "      <td>8b321bb669392f5163d04c59e235e066</td>\n",
       "      <td>2554.0</td>\n",
       "      <td>15506.0</td>\n",
       "      <td>-12952.0</td>\n",
       "      <td>943</td>\n",
       "    </tr>\n",
       "    <tr>\n",
       "      <th>...</th>\n",
       "      <td>...</td>\n",
       "      <td>...</td>\n",
       "      <td>...</td>\n",
       "      <td>...</td>\n",
       "      <td>...</td>\n",
       "    </tr>\n",
       "    <tr>\n",
       "      <th>2830</th>\n",
       "      <td>46dc3b2cc0980fb8ec44634e21d2718e</td>\n",
       "      <td>14571.0</td>\n",
       "      <td>7587.0</td>\n",
       "      <td>6984.0</td>\n",
       "      <td>521</td>\n",
       "    </tr>\n",
       "    <tr>\n",
       "      <th>2151</th>\n",
       "      <td>edb1ef5e36e0c8cd84eb3c9b003e486d</td>\n",
       "      <td>8808.0</td>\n",
       "      <td>1520.0</td>\n",
       "      <td>7288.0</td>\n",
       "      <td>166</td>\n",
       "    </tr>\n",
       "    <tr>\n",
       "      <th>534</th>\n",
       "      <td>fa1c13f2614d7b5c4749cbc52fecda94</td>\n",
       "      <td>21004.0</td>\n",
       "      <td>6555.0</td>\n",
       "      <td>14449.0</td>\n",
       "      <td>585</td>\n",
       "    </tr>\n",
       "    <tr>\n",
       "      <th>67</th>\n",
       "      <td>7e93a43ef30c4f03f38b393420bc753a</td>\n",
       "      <td>19323.0</td>\n",
       "      <td>4714.0</td>\n",
       "      <td>14609.0</td>\n",
       "      <td>336</td>\n",
       "    </tr>\n",
       "    <tr>\n",
       "      <th>868</th>\n",
       "      <td>53243585a1d6dc2643021fd1853d8905</td>\n",
       "      <td>23238.0</td>\n",
       "      <td>5199.0</td>\n",
       "      <td>18039.0</td>\n",
       "      <td>358</td>\n",
       "    </tr>\n",
       "  </tbody>\n",
       "</table>\n",
       "<p>2967 rows × 5 columns</p>\n",
       "</div>"
      ],
      "text/plain": [
       "                             seller_id      rev  cost_br  profits  n_orders\n",
       "769   6560211a19b47992c3666cc44a7e94c0  13770.0  35481.0 -21711.0      1854\n",
       "2358  4a3ca9315b744ce9f8e9374361493884  21647.0  39509.0 -17862.0      1806\n",
       "1357  cc419e0650a3c5ba77189a1882b7556a  11949.0  28953.0 -17004.0      1706\n",
       "945   ea8482cd71df3c1969d7b9473ff13abc   4678.0  20309.0 -15631.0      1146\n",
       "315   8b321bb669392f5163d04c59e235e066   2554.0  15506.0 -12952.0       943\n",
       "...                                ...      ...      ...      ...       ...\n",
       "2830  46dc3b2cc0980fb8ec44634e21d2718e  14571.0   7587.0   6984.0       521\n",
       "2151  edb1ef5e36e0c8cd84eb3c9b003e486d   8808.0   1520.0   7288.0       166\n",
       "534   fa1c13f2614d7b5c4749cbc52fecda94  21004.0   6555.0  14449.0       585\n",
       "67    7e93a43ef30c4f03f38b393420bc753a  19323.0   4714.0  14609.0       336\n",
       "868   53243585a1d6dc2643021fd1853d8905  23238.0   5199.0  18039.0       358\n",
       "\n",
       "[2967 rows x 5 columns]"
      ]
     },
     "execution_count": 105,
     "metadata": {},
     "output_type": "execute_result"
    }
   ],
   "source": [
    "#define a new table called new_sellers and sort by profits\n",
    "\n",
    "new_sellers = sellers[['seller_id', 'rev', 'cost_br', 'profits', 'n_orders']]\n",
    "new_sellers = new_sellers.sort_values(by=['profits']).round()\n",
    "new_sellers"
   ]
  },
  {
   "cell_type": "code",
   "execution_count": 106,
   "metadata": {
    "slideshow": {
     "slide_type": "subslide"
    }
   },
   "outputs": [
    {
     "data": {
      "text/html": [
       "<div>\n",
       "<style scoped>\n",
       "    .dataframe tbody tr th:only-of-type {\n",
       "        vertical-align: middle;\n",
       "    }\n",
       "\n",
       "    .dataframe tbody tr th {\n",
       "        vertical-align: top;\n",
       "    }\n",
       "\n",
       "    .dataframe thead th {\n",
       "        text-align: right;\n",
       "    }\n",
       "</style>\n",
       "<table border=\"1\" class=\"dataframe\">\n",
       "  <thead>\n",
       "    <tr style=\"text-align: right;\">\n",
       "      <th></th>\n",
       "      <th>seller_id</th>\n",
       "      <th>rev</th>\n",
       "      <th>n_orders</th>\n",
       "      <th>it_costs</th>\n",
       "    </tr>\n",
       "  </thead>\n",
       "  <tbody>\n",
       "    <tr>\n",
       "      <th>0</th>\n",
       "      <td>6560211a19b47992c3666cc44a7e94c0</td>\n",
       "      <td>13770.0</td>\n",
       "      <td>1854</td>\n",
       "      <td>495335.864453</td>\n",
       "    </tr>\n",
       "    <tr>\n",
       "      <th>1</th>\n",
       "      <td>4a3ca9315b744ce9f8e9374361493884</td>\n",
       "      <td>21647.0</td>\n",
       "      <td>1806</td>\n",
       "      <td>490749.863302</td>\n",
       "    </tr>\n",
       "    <tr>\n",
       "      <th>2</th>\n",
       "      <td>cc419e0650a3c5ba77189a1882b7556a</td>\n",
       "      <td>11949.0</td>\n",
       "      <td>1706</td>\n",
       "      <td>486378.079462</td>\n",
       "    </tr>\n",
       "    <tr>\n",
       "      <th>3</th>\n",
       "      <td>ea8482cd71df3c1969d7b9473ff13abc</td>\n",
       "      <td>4678.0</td>\n",
       "      <td>1146</td>\n",
       "      <td>483419.148956</td>\n",
       "    </tr>\n",
       "    <tr>\n",
       "      <th>4</th>\n",
       "      <td>8b321bb669392f5163d04c59e235e066</td>\n",
       "      <td>2554.0</td>\n",
       "      <td>943</td>\n",
       "      <td>480970.705119</td>\n",
       "    </tr>\n",
       "    <tr>\n",
       "      <th>...</th>\n",
       "      <td>...</td>\n",
       "      <td>...</td>\n",
       "      <td>...</td>\n",
       "      <td>...</td>\n",
       "    </tr>\n",
       "    <tr>\n",
       "      <th>2962</th>\n",
       "      <td>46dc3b2cc0980fb8ec44634e21d2718e</td>\n",
       "      <td>14571.0</td>\n",
       "      <td>521</td>\n",
       "      <td>60151.916198</td>\n",
       "    </tr>\n",
       "    <tr>\n",
       "      <th>2963</th>\n",
       "      <td>edb1ef5e36e0c8cd84eb3c9b003e486d</td>\n",
       "      <td>8808.0</td>\n",
       "      <td>166</td>\n",
       "      <td>56591.449190</td>\n",
       "    </tr>\n",
       "    <tr>\n",
       "      <th>2964</th>\n",
       "      <td>fa1c13f2614d7b5c4749cbc52fecda94</td>\n",
       "      <td>21004.0</td>\n",
       "      <td>585</td>\n",
       "      <td>41686.485139</td>\n",
       "    </tr>\n",
       "    <tr>\n",
       "      <th>2965</th>\n",
       "      <td>7e93a43ef30c4f03f38b393420bc753a</td>\n",
       "      <td>19323.0</td>\n",
       "      <td>336</td>\n",
       "      <td>29940.362661</td>\n",
       "    </tr>\n",
       "    <tr>\n",
       "      <th>2966</th>\n",
       "      <td>53243585a1d6dc2643021fd1853d8905</td>\n",
       "      <td>23238.0</td>\n",
       "      <td>358</td>\n",
       "      <td>0.000000</td>\n",
       "    </tr>\n",
       "  </tbody>\n",
       "</table>\n",
       "<p>2967 rows × 4 columns</p>\n",
       "</div>"
      ],
      "text/plain": [
       "                             seller_id      rev  n_orders       it_costs\n",
       "0     6560211a19b47992c3666cc44a7e94c0  13770.0      1854  495335.864453\n",
       "1     4a3ca9315b744ce9f8e9374361493884  21647.0      1806  490749.863302\n",
       "2     cc419e0650a3c5ba77189a1882b7556a  11949.0      1706  486378.079462\n",
       "3     ea8482cd71df3c1969d7b9473ff13abc   4678.0      1146  483419.148956\n",
       "4     8b321bb669392f5163d04c59e235e066   2554.0       943  480970.705119\n",
       "...                                ...      ...       ...            ...\n",
       "2962  46dc3b2cc0980fb8ec44634e21d2718e  14571.0       521   60151.916198\n",
       "2963  edb1ef5e36e0c8cd84eb3c9b003e486d   8808.0       166   56591.449190\n",
       "2964  fa1c13f2614d7b5c4749cbc52fecda94  21004.0       585   41686.485139\n",
       "2965  7e93a43ef30c4f03f38b393420bc753a  19323.0       336   29940.362661\n",
       "2966  53243585a1d6dc2643021fd1853d8905  23238.0       358       0.000000\n",
       "\n",
       "[2967 rows x 4 columns]"
      ]
     },
     "execution_count": 106,
     "metadata": {},
     "output_type": "execute_result"
    }
   ],
   "source": [
    "s = pd.Series(new_sellers['n_orders'])\n",
    "c = s.cumsum()\n",
    "new_sellers['cum_orders'] = c\n",
    "\n",
    "total_orders = new_sellers['n_orders'].sum()\n",
    "new_sellers['del_cum'] = total_orders - new_sellers['cum_orders']\n",
    "\n",
    "alpha_it_costs = 500000/(total_orders ** 0.5)\n",
    "new_sellers['it_costs'] = alpha_it_costs * (new_sellers['del_cum'] ** 0.5)\n",
    "new_sellers['1'] = 1\n",
    "new_sellers['del_sellers'] = pd.Series(new_sellers['1']).cumsum()\n",
    "new_sellers['it_costs_per_seller'] = 0\n",
    "new_sellers = new_sellers.reset_index()\n",
    "\n",
    "new_sellers[['seller_id', 'rev', 'n_orders', 'it_costs']]"
   ]
  },
  {
   "cell_type": "code",
   "execution_count": 107,
   "metadata": {
    "slideshow": {
     "slide_type": "subslide"
    }
   },
   "outputs": [
    {
     "data": {
      "text/html": [
       "<div>\n",
       "<style scoped>\n",
       "    .dataframe tbody tr th:only-of-type {\n",
       "        vertical-align: middle;\n",
       "    }\n",
       "\n",
       "    .dataframe tbody tr th {\n",
       "        vertical-align: top;\n",
       "    }\n",
       "\n",
       "    .dataframe thead th {\n",
       "        text-align: right;\n",
       "    }\n",
       "</style>\n",
       "<table border=\"1\" class=\"dataframe\">\n",
       "  <thead>\n",
       "    <tr style=\"text-align: right;\">\n",
       "      <th></th>\n",
       "      <th>seller_id</th>\n",
       "      <th>rev</th>\n",
       "      <th>cost_br</th>\n",
       "      <th>n_orders</th>\n",
       "      <th>profits</th>\n",
       "      <th>it_costs</th>\n",
       "      <th>it_costs_per_seller</th>\n",
       "    </tr>\n",
       "  </thead>\n",
       "  <tbody>\n",
       "    <tr>\n",
       "      <th>0</th>\n",
       "      <td>6560211a19b47992c3666cc44a7e94c0</td>\n",
       "      <td>13770.0</td>\n",
       "      <td>35481.0</td>\n",
       "      <td>1854</td>\n",
       "      <td>-21711.0</td>\n",
       "      <td>495335.864453</td>\n",
       "      <td>0</td>\n",
       "    </tr>\n",
       "    <tr>\n",
       "      <th>1</th>\n",
       "      <td>4a3ca9315b744ce9f8e9374361493884</td>\n",
       "      <td>21647.0</td>\n",
       "      <td>39509.0</td>\n",
       "      <td>1806</td>\n",
       "      <td>-17862.0</td>\n",
       "      <td>490749.863302</td>\n",
       "      <td>0</td>\n",
       "    </tr>\n",
       "    <tr>\n",
       "      <th>2</th>\n",
       "      <td>cc419e0650a3c5ba77189a1882b7556a</td>\n",
       "      <td>11949.0</td>\n",
       "      <td>28953.0</td>\n",
       "      <td>1706</td>\n",
       "      <td>-17004.0</td>\n",
       "      <td>486378.079462</td>\n",
       "      <td>0</td>\n",
       "    </tr>\n",
       "    <tr>\n",
       "      <th>3</th>\n",
       "      <td>ea8482cd71df3c1969d7b9473ff13abc</td>\n",
       "      <td>4678.0</td>\n",
       "      <td>20309.0</td>\n",
       "      <td>1146</td>\n",
       "      <td>-15631.0</td>\n",
       "      <td>483419.148956</td>\n",
       "      <td>0</td>\n",
       "    </tr>\n",
       "    <tr>\n",
       "      <th>4</th>\n",
       "      <td>8b321bb669392f5163d04c59e235e066</td>\n",
       "      <td>2554.0</td>\n",
       "      <td>15506.0</td>\n",
       "      <td>943</td>\n",
       "      <td>-12952.0</td>\n",
       "      <td>480970.705119</td>\n",
       "      <td>0</td>\n",
       "    </tr>\n",
       "    <tr>\n",
       "      <th>...</th>\n",
       "      <td>...</td>\n",
       "      <td>...</td>\n",
       "      <td>...</td>\n",
       "      <td>...</td>\n",
       "      <td>...</td>\n",
       "      <td>...</td>\n",
       "      <td>...</td>\n",
       "    </tr>\n",
       "    <tr>\n",
       "      <th>2962</th>\n",
       "      <td>46dc3b2cc0980fb8ec44634e21d2718e</td>\n",
       "      <td>14571.0</td>\n",
       "      <td>7587.0</td>\n",
       "      <td>521</td>\n",
       "      <td>6984.0</td>\n",
       "      <td>60151.916198</td>\n",
       "      <td>0</td>\n",
       "    </tr>\n",
       "    <tr>\n",
       "      <th>2963</th>\n",
       "      <td>edb1ef5e36e0c8cd84eb3c9b003e486d</td>\n",
       "      <td>8808.0</td>\n",
       "      <td>1520.0</td>\n",
       "      <td>166</td>\n",
       "      <td>7288.0</td>\n",
       "      <td>56591.449190</td>\n",
       "      <td>0</td>\n",
       "    </tr>\n",
       "    <tr>\n",
       "      <th>2964</th>\n",
       "      <td>fa1c13f2614d7b5c4749cbc52fecda94</td>\n",
       "      <td>21004.0</td>\n",
       "      <td>6555.0</td>\n",
       "      <td>585</td>\n",
       "      <td>14449.0</td>\n",
       "      <td>41686.485139</td>\n",
       "      <td>0</td>\n",
       "    </tr>\n",
       "    <tr>\n",
       "      <th>2965</th>\n",
       "      <td>7e93a43ef30c4f03f38b393420bc753a</td>\n",
       "      <td>19323.0</td>\n",
       "      <td>4714.0</td>\n",
       "      <td>336</td>\n",
       "      <td>14609.0</td>\n",
       "      <td>29940.362661</td>\n",
       "      <td>0</td>\n",
       "    </tr>\n",
       "    <tr>\n",
       "      <th>2966</th>\n",
       "      <td>53243585a1d6dc2643021fd1853d8905</td>\n",
       "      <td>23238.0</td>\n",
       "      <td>5199.0</td>\n",
       "      <td>358</td>\n",
       "      <td>18039.0</td>\n",
       "      <td>0.000000</td>\n",
       "      <td>0</td>\n",
       "    </tr>\n",
       "  </tbody>\n",
       "</table>\n",
       "<p>2967 rows × 7 columns</p>\n",
       "</div>"
      ],
      "text/plain": [
       "                             seller_id      rev  cost_br  n_orders  profits  \\\n",
       "0     6560211a19b47992c3666cc44a7e94c0  13770.0  35481.0      1854 -21711.0   \n",
       "1     4a3ca9315b744ce9f8e9374361493884  21647.0  39509.0      1806 -17862.0   \n",
       "2     cc419e0650a3c5ba77189a1882b7556a  11949.0  28953.0      1706 -17004.0   \n",
       "3     ea8482cd71df3c1969d7b9473ff13abc   4678.0  20309.0      1146 -15631.0   \n",
       "4     8b321bb669392f5163d04c59e235e066   2554.0  15506.0       943 -12952.0   \n",
       "...                                ...      ...      ...       ...      ...   \n",
       "2962  46dc3b2cc0980fb8ec44634e21d2718e  14571.0   7587.0       521   6984.0   \n",
       "2963  edb1ef5e36e0c8cd84eb3c9b003e486d   8808.0   1520.0       166   7288.0   \n",
       "2964  fa1c13f2614d7b5c4749cbc52fecda94  21004.0   6555.0       585  14449.0   \n",
       "2965  7e93a43ef30c4f03f38b393420bc753a  19323.0   4714.0       336  14609.0   \n",
       "2966  53243585a1d6dc2643021fd1853d8905  23238.0   5199.0       358  18039.0   \n",
       "\n",
       "           it_costs  it_costs_per_seller  \n",
       "0     495335.864453                    0  \n",
       "1     490749.863302                    0  \n",
       "2     486378.079462                    0  \n",
       "3     483419.148956                    0  \n",
       "4     480970.705119                    0  \n",
       "...             ...                  ...  \n",
       "2962   60151.916198                    0  \n",
       "2963   56591.449190                    0  \n",
       "2964   41686.485139                    0  \n",
       "2965   29940.362661                    0  \n",
       "2966       0.000000                    0  \n",
       "\n",
       "[2967 rows x 7 columns]"
      ]
     },
     "execution_count": 107,
     "metadata": {},
     "output_type": "execute_result"
    }
   ],
   "source": [
    "#remove some columns\n",
    "new_sellers = new_sellers[['seller_id','rev','cost_br','n_orders','profits','it_costs', 'it_costs_per_seller']]\n",
    "new_sellers"
   ]
  },
  {
   "cell_type": "code",
   "execution_count": 117,
   "metadata": {},
   "outputs": [
    {
     "data": {
      "text/plain": [
       "<AxesSubplot:>"
      ]
     },
     "execution_count": 117,
     "metadata": {},
     "output_type": "execute_result"
    },
    {
     "data": {
      "image/png": "[encoded data removed]",
      "text/plain": [
       "<Figure size 432x288 with 1 Axes>"
      ]
     },
     "metadata": {
      "needs_background": "light"
     },
     "output_type": "display_data"
    }
   ],
   "source": [
    "new_sellers.it_costs.plot()"
   ]
  },
  {
   "cell_type": "code",
   "execution_count": 108,
   "metadata": {
    "slideshow": {
     "slide_type": "subslide"
    }
   },
   "outputs": [
    {
     "name": "stderr",
     "output_type": "stream",
     "text": [
      "/tmp/ipykernel_4635/259429776.py:5: SettingWithCopyWarning: \n",
      "A value is trying to be set on a copy of a slice from a DataFrame\n",
      "\n",
      "See the caveats in the documentation: https://pandas.pydata.org/pandas-docs/stable/user_guide/indexing.html#returning-a-view-versus-a-copy\n",
      "  new_sellers['it_costs_per_seller'][i] = x[i] - x[i+1]\n"
     ]
    },
    {
     "data": {
      "text/html": [
       "<div>\n",
       "<style scoped>\n",
       "    .dataframe tbody tr th:only-of-type {\n",
       "        vertical-align: middle;\n",
       "    }\n",
       "\n",
       "    .dataframe tbody tr th {\n",
       "        vertical-align: top;\n",
       "    }\n",
       "\n",
       "    .dataframe thead th {\n",
       "        text-align: right;\n",
       "    }\n",
       "</style>\n",
       "<table border=\"1\" class=\"dataframe\">\n",
       "  <thead>\n",
       "    <tr style=\"text-align: right;\">\n",
       "      <th></th>\n",
       "      <th>seller_id</th>\n",
       "      <th>rev</th>\n",
       "      <th>cost_br</th>\n",
       "      <th>n_orders</th>\n",
       "      <th>profits</th>\n",
       "      <th>it_costs</th>\n",
       "      <th>it_costs_per_seller</th>\n",
       "    </tr>\n",
       "  </thead>\n",
       "  <tbody>\n",
       "    <tr>\n",
       "      <th>0</th>\n",
       "      <td>6560211a19b47992c3666cc44a7e94c0</td>\n",
       "      <td>13770.0</td>\n",
       "      <td>35481.0</td>\n",
       "      <td>1854</td>\n",
       "      <td>-21711.0</td>\n",
       "      <td>495335.864453</td>\n",
       "      <td>4586</td>\n",
       "    </tr>\n",
       "    <tr>\n",
       "      <th>1</th>\n",
       "      <td>4a3ca9315b744ce9f8e9374361493884</td>\n",
       "      <td>21647.0</td>\n",
       "      <td>39509.0</td>\n",
       "      <td>1806</td>\n",
       "      <td>-17862.0</td>\n",
       "      <td>490749.863302</td>\n",
       "      <td>4371</td>\n",
       "    </tr>\n",
       "    <tr>\n",
       "      <th>2</th>\n",
       "      <td>cc419e0650a3c5ba77189a1882b7556a</td>\n",
       "      <td>11949.0</td>\n",
       "      <td>28953.0</td>\n",
       "      <td>1706</td>\n",
       "      <td>-17004.0</td>\n",
       "      <td>486378.079462</td>\n",
       "      <td>2958</td>\n",
       "    </tr>\n",
       "    <tr>\n",
       "      <th>3</th>\n",
       "      <td>ea8482cd71df3c1969d7b9473ff13abc</td>\n",
       "      <td>4678.0</td>\n",
       "      <td>20309.0</td>\n",
       "      <td>1146</td>\n",
       "      <td>-15631.0</td>\n",
       "      <td>483419.148956</td>\n",
       "      <td>2448</td>\n",
       "    </tr>\n",
       "    <tr>\n",
       "      <th>4</th>\n",
       "      <td>8b321bb669392f5163d04c59e235e066</td>\n",
       "      <td>2554.0</td>\n",
       "      <td>15506.0</td>\n",
       "      <td>943</td>\n",
       "      <td>-12952.0</td>\n",
       "      <td>480970.705119</td>\n",
       "      <td>3668</td>\n",
       "    </tr>\n",
       "    <tr>\n",
       "      <th>...</th>\n",
       "      <td>...</td>\n",
       "      <td>...</td>\n",
       "      <td>...</td>\n",
       "      <td>...</td>\n",
       "      <td>...</td>\n",
       "      <td>...</td>\n",
       "      <td>...</td>\n",
       "    </tr>\n",
       "    <tr>\n",
       "      <th>2962</th>\n",
       "      <td>46dc3b2cc0980fb8ec44634e21d2718e</td>\n",
       "      <td>14571.0</td>\n",
       "      <td>7587.0</td>\n",
       "      <td>521</td>\n",
       "      <td>6984.0</td>\n",
       "      <td>60151.916198</td>\n",
       "      <td>3560</td>\n",
       "    </tr>\n",
       "    <tr>\n",
       "      <th>2963</th>\n",
       "      <td>edb1ef5e36e0c8cd84eb3c9b003e486d</td>\n",
       "      <td>8808.0</td>\n",
       "      <td>1520.0</td>\n",
       "      <td>166</td>\n",
       "      <td>7288.0</td>\n",
       "      <td>56591.449190</td>\n",
       "      <td>14904</td>\n",
       "    </tr>\n",
       "    <tr>\n",
       "      <th>2964</th>\n",
       "      <td>fa1c13f2614d7b5c4749cbc52fecda94</td>\n",
       "      <td>21004.0</td>\n",
       "      <td>6555.0</td>\n",
       "      <td>585</td>\n",
       "      <td>14449.0</td>\n",
       "      <td>41686.485139</td>\n",
       "      <td>11746</td>\n",
       "    </tr>\n",
       "    <tr>\n",
       "      <th>2965</th>\n",
       "      <td>7e93a43ef30c4f03f38b393420bc753a</td>\n",
       "      <td>19323.0</td>\n",
       "      <td>4714.0</td>\n",
       "      <td>336</td>\n",
       "      <td>14609.0</td>\n",
       "      <td>29940.362661</td>\n",
       "      <td>29940</td>\n",
       "    </tr>\n",
       "    <tr>\n",
       "      <th>2966</th>\n",
       "      <td>53243585a1d6dc2643021fd1853d8905</td>\n",
       "      <td>23238.0</td>\n",
       "      <td>5199.0</td>\n",
       "      <td>358</td>\n",
       "      <td>18039.0</td>\n",
       "      <td>0.000000</td>\n",
       "      <td>0</td>\n",
       "    </tr>\n",
       "  </tbody>\n",
       "</table>\n",
       "<p>2967 rows × 7 columns</p>\n",
       "</div>"
      ],
      "text/plain": [
       "                             seller_id      rev  cost_br  n_orders  profits  \\\n",
       "0     6560211a19b47992c3666cc44a7e94c0  13770.0  35481.0      1854 -21711.0   \n",
       "1     4a3ca9315b744ce9f8e9374361493884  21647.0  39509.0      1806 -17862.0   \n",
       "2     cc419e0650a3c5ba77189a1882b7556a  11949.0  28953.0      1706 -17004.0   \n",
       "3     ea8482cd71df3c1969d7b9473ff13abc   4678.0  20309.0      1146 -15631.0   \n",
       "4     8b321bb669392f5163d04c59e235e066   2554.0  15506.0       943 -12952.0   \n",
       "...                                ...      ...      ...       ...      ...   \n",
       "2962  46dc3b2cc0980fb8ec44634e21d2718e  14571.0   7587.0       521   6984.0   \n",
       "2963  edb1ef5e36e0c8cd84eb3c9b003e486d   8808.0   1520.0       166   7288.0   \n",
       "2964  fa1c13f2614d7b5c4749cbc52fecda94  21004.0   6555.0       585  14449.0   \n",
       "2965  7e93a43ef30c4f03f38b393420bc753a  19323.0   4714.0       336  14609.0   \n",
       "2966  53243585a1d6dc2643021fd1853d8905  23238.0   5199.0       358  18039.0   \n",
       "\n",
       "           it_costs  it_costs_per_seller  \n",
       "0     495335.864453                 4586  \n",
       "1     490749.863302                 4371  \n",
       "2     486378.079462                 2958  \n",
       "3     483419.148956                 2448  \n",
       "4     480970.705119                 3668  \n",
       "...             ...                  ...  \n",
       "2962   60151.916198                 3560  \n",
       "2963   56591.449190                14904  \n",
       "2964   41686.485139                11746  \n",
       "2965   29940.362661                29940  \n",
       "2966       0.000000                    0  \n",
       "\n",
       "[2967 rows x 7 columns]"
      ]
     },
     "execution_count": 108,
     "metadata": {},
     "output_type": "execute_result"
    }
   ],
   "source": [
    "#compute the it costs per seller\n",
    "n = len(sellers['seller_id'])\n",
    "x = new_sellers['it_costs'].copy()\n",
    "for i in range(n-1):\n",
    "        new_sellers['it_costs_per_seller'][i] = x[i] - x[i+1]\n",
    "        \n",
    "new_sellers"
   ]
  },
  {
   "cell_type": "markdown",
   "metadata": {
    "slideshow": {
     "slide_type": "subslide"
    }
   },
   "source": [
    ">> Distribution of IT costs"
   ]
  },
  {
   "cell_type": "code",
   "execution_count": 109,
   "metadata": {
    "slideshow": {
     "slide_type": "subslide"
    }
   },
   "outputs": [
    {
     "data": {
      "text/plain": [
       "<AxesSubplot:ylabel='Frequency'>"
      ]
     },
     "execution_count": 109,
     "metadata": {},
     "output_type": "execute_result"
    },
    {
     "data": {
      "image/png": "[encoded data removed]",
      "text/plain": [
       "<Figure size 432x288 with 1 Axes>"
      ]
     },
     "metadata": {
      "needs_background": "light"
     },
     "output_type": "display_data"
    }
   ],
   "source": [
    "new_sellers.it_costs_per_seller.plot.hist(range=(0,1000))"
   ]
  },
  {
   "cell_type": "code",
   "execution_count": 110,
   "metadata": {
    "slideshow": {
     "slide_type": "subslide"
    }
   },
   "outputs": [
    {
     "data": {
      "text/plain": [
       "<AxesSubplot:>"
      ]
     },
     "execution_count": 110,
     "metadata": {},
     "output_type": "execute_result"
    },
    {
     "data": {
      "image/png": "[encoded data removed]",
      "text/plain": [
       "<Figure size 432x288 with 1 Axes>"
      ]
     },
     "metadata": {
      "needs_background": "light"
     },
     "output_type": "display_data"
    }
   ],
   "source": [
    "#how IT costs evolve if we remove dealers from the worst dealer to the best dealer\n",
    "new_sellers['it_costs'].plot()"
   ]
  },
  {
   "cell_type": "code",
   "execution_count": 111,
   "metadata": {
    "slideshow": {
     "slide_type": "subslide"
    }
   },
   "outputs": [
    {
     "data": {
      "text/plain": [
       "<AxesSubplot:ylabel='Frequency'>"
      ]
     },
     "execution_count": 111,
     "metadata": {},
     "output_type": "execute_result"
    },
    {
     "data": {
      "image/png": "[encoded data removed]",
      "text/plain": [
       "<Figure size 432x288 with 1 Axes>"
      ]
     },
     "metadata": {
      "needs_background": "light"
     },
     "output_type": "display_data"
    }
   ],
   "source": [
    "#distribution of it costs across dealers\n",
    "new_sellers['it_costs_per_seller'].plot.hist()"
   ]
  },
  {
   "cell_type": "code",
   "execution_count": 112,
   "metadata": {
    "slideshow": {
     "slide_type": "skip"
    }
   },
   "outputs": [],
   "source": [
    "#update the computation of PNL\n",
    "new_sellers['p&l'] = new_sellers['profits'] - new_sellers['it_costs_per_seller']"
   ]
  },
  {
   "cell_type": "code",
   "execution_count": 113,
   "metadata": {
    "slideshow": {
     "slide_type": "skip"
    }
   },
   "outputs": [
    {
     "name": "stderr",
     "output_type": "stream",
     "text": [
      "/tmp/ipykernel_4635/715541338.py:7: SettingWithCopyWarning: \n",
      "A value is trying to be set on a copy of a slice from a DataFrame\n",
      "\n",
      "See the caveats in the documentation: https://pandas.pydata.org/pandas-docs/stable/user_guide/indexing.html#returning-a-view-versus-a-copy\n",
      "  new_sellers['cum_p&l'][i]= y[i:].sum()\n"
     ]
    },
    {
     "data": {
      "text/html": [
       "<div>\n",
       "<style scoped>\n",
       "    .dataframe tbody tr th:only-of-type {\n",
       "        vertical-align: middle;\n",
       "    }\n",
       "\n",
       "    .dataframe tbody tr th {\n",
       "        vertical-align: top;\n",
       "    }\n",
       "\n",
       "    .dataframe thead th {\n",
       "        text-align: right;\n",
       "    }\n",
       "</style>\n",
       "<table border=\"1\" class=\"dataframe\">\n",
       "  <thead>\n",
       "    <tr style=\"text-align: right;\">\n",
       "      <th></th>\n",
       "      <th>seller_id</th>\n",
       "      <th>rev</th>\n",
       "      <th>cost_br</th>\n",
       "      <th>n_orders</th>\n",
       "      <th>profits</th>\n",
       "      <th>it_costs</th>\n",
       "      <th>it_costs_per_seller</th>\n",
       "      <th>p&amp;l</th>\n",
       "      <th>cum_p&amp;l</th>\n",
       "    </tr>\n",
       "  </thead>\n",
       "  <tbody>\n",
       "    <tr>\n",
       "      <th>0</th>\n",
       "      <td>6560211a19b47992c3666cc44a7e94c0</td>\n",
       "      <td>13770.0</td>\n",
       "      <td>35481.0</td>\n",
       "      <td>1854</td>\n",
       "      <td>-21711.0</td>\n",
       "      <td>495335.864453</td>\n",
       "      <td>4586</td>\n",
       "      <td>-26297.0</td>\n",
       "      <td>669580</td>\n",
       "    </tr>\n",
       "    <tr>\n",
       "      <th>1</th>\n",
       "      <td>4a3ca9315b744ce9f8e9374361493884</td>\n",
       "      <td>21647.0</td>\n",
       "      <td>39509.0</td>\n",
       "      <td>1806</td>\n",
       "      <td>-17862.0</td>\n",
       "      <td>490749.863302</td>\n",
       "      <td>4371</td>\n",
       "      <td>-22233.0</td>\n",
       "      <td>695877</td>\n",
       "    </tr>\n",
       "    <tr>\n",
       "      <th>2</th>\n",
       "      <td>cc419e0650a3c5ba77189a1882b7556a</td>\n",
       "      <td>11949.0</td>\n",
       "      <td>28953.0</td>\n",
       "      <td>1706</td>\n",
       "      <td>-17004.0</td>\n",
       "      <td>486378.079462</td>\n",
       "      <td>2958</td>\n",
       "      <td>-19962.0</td>\n",
       "      <td>718110</td>\n",
       "    </tr>\n",
       "    <tr>\n",
       "      <th>3</th>\n",
       "      <td>ea8482cd71df3c1969d7b9473ff13abc</td>\n",
       "      <td>4678.0</td>\n",
       "      <td>20309.0</td>\n",
       "      <td>1146</td>\n",
       "      <td>-15631.0</td>\n",
       "      <td>483419.148956</td>\n",
       "      <td>2448</td>\n",
       "      <td>-18079.0</td>\n",
       "      <td>738072</td>\n",
       "    </tr>\n",
       "    <tr>\n",
       "      <th>4</th>\n",
       "      <td>8b321bb669392f5163d04c59e235e066</td>\n",
       "      <td>2554.0</td>\n",
       "      <td>15506.0</td>\n",
       "      <td>943</td>\n",
       "      <td>-12952.0</td>\n",
       "      <td>480970.705119</td>\n",
       "      <td>3668</td>\n",
       "      <td>-16620.0</td>\n",
       "      <td>756151</td>\n",
       "    </tr>\n",
       "    <tr>\n",
       "      <th>...</th>\n",
       "      <td>...</td>\n",
       "      <td>...</td>\n",
       "      <td>...</td>\n",
       "      <td>...</td>\n",
       "      <td>...</td>\n",
       "      <td>...</td>\n",
       "      <td>...</td>\n",
       "      <td>...</td>\n",
       "      <td>...</td>\n",
       "    </tr>\n",
       "    <tr>\n",
       "      <th>2962</th>\n",
       "      <td>46dc3b2cc0980fb8ec44634e21d2718e</td>\n",
       "      <td>14571.0</td>\n",
       "      <td>7587.0</td>\n",
       "      <td>521</td>\n",
       "      <td>6984.0</td>\n",
       "      <td>60151.916198</td>\n",
       "      <td>3560</td>\n",
       "      <td>3424.0</td>\n",
       "      <td>1219</td>\n",
       "    </tr>\n",
       "    <tr>\n",
       "      <th>2963</th>\n",
       "      <td>edb1ef5e36e0c8cd84eb3c9b003e486d</td>\n",
       "      <td>8808.0</td>\n",
       "      <td>1520.0</td>\n",
       "      <td>166</td>\n",
       "      <td>7288.0</td>\n",
       "      <td>56591.449190</td>\n",
       "      <td>14904</td>\n",
       "      <td>-7616.0</td>\n",
       "      <td>-2205</td>\n",
       "    </tr>\n",
       "    <tr>\n",
       "      <th>2964</th>\n",
       "      <td>fa1c13f2614d7b5c4749cbc52fecda94</td>\n",
       "      <td>21004.0</td>\n",
       "      <td>6555.0</td>\n",
       "      <td>585</td>\n",
       "      <td>14449.0</td>\n",
       "      <td>41686.485139</td>\n",
       "      <td>11746</td>\n",
       "      <td>2703.0</td>\n",
       "      <td>5411</td>\n",
       "    </tr>\n",
       "    <tr>\n",
       "      <th>2965</th>\n",
       "      <td>7e93a43ef30c4f03f38b393420bc753a</td>\n",
       "      <td>19323.0</td>\n",
       "      <td>4714.0</td>\n",
       "      <td>336</td>\n",
       "      <td>14609.0</td>\n",
       "      <td>29940.362661</td>\n",
       "      <td>29940</td>\n",
       "      <td>-15331.0</td>\n",
       "      <td>2708</td>\n",
       "    </tr>\n",
       "    <tr>\n",
       "      <th>2966</th>\n",
       "      <td>53243585a1d6dc2643021fd1853d8905</td>\n",
       "      <td>23238.0</td>\n",
       "      <td>5199.0</td>\n",
       "      <td>358</td>\n",
       "      <td>18039.0</td>\n",
       "      <td>0.000000</td>\n",
       "      <td>0</td>\n",
       "      <td>18039.0</td>\n",
       "      <td>0</td>\n",
       "    </tr>\n",
       "  </tbody>\n",
       "</table>\n",
       "<p>2967 rows × 9 columns</p>\n",
       "</div>"
      ],
      "text/plain": [
       "                             seller_id      rev  cost_br  n_orders  profits  \\\n",
       "0     6560211a19b47992c3666cc44a7e94c0  13770.0  35481.0      1854 -21711.0   \n",
       "1     4a3ca9315b744ce9f8e9374361493884  21647.0  39509.0      1806 -17862.0   \n",
       "2     cc419e0650a3c5ba77189a1882b7556a  11949.0  28953.0      1706 -17004.0   \n",
       "3     ea8482cd71df3c1969d7b9473ff13abc   4678.0  20309.0      1146 -15631.0   \n",
       "4     8b321bb669392f5163d04c59e235e066   2554.0  15506.0       943 -12952.0   \n",
       "...                                ...      ...      ...       ...      ...   \n",
       "2962  46dc3b2cc0980fb8ec44634e21d2718e  14571.0   7587.0       521   6984.0   \n",
       "2963  edb1ef5e36e0c8cd84eb3c9b003e486d   8808.0   1520.0       166   7288.0   \n",
       "2964  fa1c13f2614d7b5c4749cbc52fecda94  21004.0   6555.0       585  14449.0   \n",
       "2965  7e93a43ef30c4f03f38b393420bc753a  19323.0   4714.0       336  14609.0   \n",
       "2966  53243585a1d6dc2643021fd1853d8905  23238.0   5199.0       358  18039.0   \n",
       "\n",
       "           it_costs  it_costs_per_seller      p&l  cum_p&l  \n",
       "0     495335.864453                 4586 -26297.0   669580  \n",
       "1     490749.863302                 4371 -22233.0   695877  \n",
       "2     486378.079462                 2958 -19962.0   718110  \n",
       "3     483419.148956                 2448 -18079.0   738072  \n",
       "4     480970.705119                 3668 -16620.0   756151  \n",
       "...             ...                  ...      ...      ...  \n",
       "2962   60151.916198                 3560   3424.0     1219  \n",
       "2963   56591.449190                14904  -7616.0    -2205  \n",
       "2964   41686.485139                11746   2703.0     5411  \n",
       "2965   29940.362661                29940 -15331.0     2708  \n",
       "2966       0.000000                    0  18039.0        0  \n",
       "\n",
       "[2967 rows x 9 columns]"
      ]
     },
     "execution_count": 113,
     "metadata": {},
     "output_type": "execute_result"
    }
   ],
   "source": [
    "#compute the cum pnl as we will be cutting dealers accesses from the worst to the best\n",
    "c2 = pd.Series(new_sellers['p&l'])\n",
    "new_sellers['cum_p&l'] = 0\n",
    "y=new_sellers['p&l']\n",
    "\n",
    "for i in range(2967 -1):\n",
    "    new_sellers['cum_p&l'][i]= y[i:].sum()\n",
    "\n",
    "new_sellers"
   ]
  },
  {
   "cell_type": "code",
   "execution_count": 114,
   "metadata": {
    "slideshow": {
     "slide_type": "subslide"
    }
   },
   "outputs": [
    {
     "data": {
      "text/html": [
       "<div>\n",
       "<style scoped>\n",
       "    .dataframe tbody tr th:only-of-type {\n",
       "        vertical-align: middle;\n",
       "    }\n",
       "\n",
       "    .dataframe tbody tr th {\n",
       "        vertical-align: top;\n",
       "    }\n",
       "\n",
       "    .dataframe thead th {\n",
       "        text-align: right;\n",
       "    }\n",
       "</style>\n",
       "<table border=\"1\" class=\"dataframe\">\n",
       "  <thead>\n",
       "    <tr style=\"text-align: right;\">\n",
       "      <th></th>\n",
       "      <th>seller_id</th>\n",
       "      <th>rev</th>\n",
       "      <th>cost_br</th>\n",
       "      <th>n_orders</th>\n",
       "      <th>profits</th>\n",
       "      <th>it_costs</th>\n",
       "      <th>it_costs_per_seller</th>\n",
       "      <th>p&amp;l</th>\n",
       "      <th>cum_p&amp;l</th>\n",
       "    </tr>\n",
       "  </thead>\n",
       "  <tbody>\n",
       "    <tr>\n",
       "      <th>0</th>\n",
       "      <td>6560211a19b47992c3666cc44a7e94c0</td>\n",
       "      <td>13770.0</td>\n",
       "      <td>35481.0</td>\n",
       "      <td>1854</td>\n",
       "      <td>-21711.0</td>\n",
       "      <td>495335.864453</td>\n",
       "      <td>4586</td>\n",
       "      <td>-26297.0</td>\n",
       "      <td>669580</td>\n",
       "    </tr>\n",
       "    <tr>\n",
       "      <th>1</th>\n",
       "      <td>4a3ca9315b744ce9f8e9374361493884</td>\n",
       "      <td>21647.0</td>\n",
       "      <td>39509.0</td>\n",
       "      <td>1806</td>\n",
       "      <td>-17862.0</td>\n",
       "      <td>490749.863302</td>\n",
       "      <td>4371</td>\n",
       "      <td>-22233.0</td>\n",
       "      <td>695877</td>\n",
       "    </tr>\n",
       "    <tr>\n",
       "      <th>2</th>\n",
       "      <td>cc419e0650a3c5ba77189a1882b7556a</td>\n",
       "      <td>11949.0</td>\n",
       "      <td>28953.0</td>\n",
       "      <td>1706</td>\n",
       "      <td>-17004.0</td>\n",
       "      <td>486378.079462</td>\n",
       "      <td>2958</td>\n",
       "      <td>-19962.0</td>\n",
       "      <td>718110</td>\n",
       "    </tr>\n",
       "    <tr>\n",
       "      <th>3</th>\n",
       "      <td>ea8482cd71df3c1969d7b9473ff13abc</td>\n",
       "      <td>4678.0</td>\n",
       "      <td>20309.0</td>\n",
       "      <td>1146</td>\n",
       "      <td>-15631.0</td>\n",
       "      <td>483419.148956</td>\n",
       "      <td>2448</td>\n",
       "      <td>-18079.0</td>\n",
       "      <td>738072</td>\n",
       "    </tr>\n",
       "    <tr>\n",
       "      <th>4</th>\n",
       "      <td>8b321bb669392f5163d04c59e235e066</td>\n",
       "      <td>2554.0</td>\n",
       "      <td>15506.0</td>\n",
       "      <td>943</td>\n",
       "      <td>-12952.0</td>\n",
       "      <td>480970.705119</td>\n",
       "      <td>3668</td>\n",
       "      <td>-16620.0</td>\n",
       "      <td>756151</td>\n",
       "    </tr>\n",
       "    <tr>\n",
       "      <th>...</th>\n",
       "      <td>...</td>\n",
       "      <td>...</td>\n",
       "      <td>...</td>\n",
       "      <td>...</td>\n",
       "      <td>...</td>\n",
       "      <td>...</td>\n",
       "      <td>...</td>\n",
       "      <td>...</td>\n",
       "      <td>...</td>\n",
       "    </tr>\n",
       "    <tr>\n",
       "      <th>2962</th>\n",
       "      <td>46dc3b2cc0980fb8ec44634e21d2718e</td>\n",
       "      <td>14571.0</td>\n",
       "      <td>7587.0</td>\n",
       "      <td>521</td>\n",
       "      <td>6984.0</td>\n",
       "      <td>60151.916198</td>\n",
       "      <td>3560</td>\n",
       "      <td>3424.0</td>\n",
       "      <td>1219</td>\n",
       "    </tr>\n",
       "    <tr>\n",
       "      <th>2963</th>\n",
       "      <td>edb1ef5e36e0c8cd84eb3c9b003e486d</td>\n",
       "      <td>8808.0</td>\n",
       "      <td>1520.0</td>\n",
       "      <td>166</td>\n",
       "      <td>7288.0</td>\n",
       "      <td>56591.449190</td>\n",
       "      <td>14904</td>\n",
       "      <td>-7616.0</td>\n",
       "      <td>-2205</td>\n",
       "    </tr>\n",
       "    <tr>\n",
       "      <th>2964</th>\n",
       "      <td>fa1c13f2614d7b5c4749cbc52fecda94</td>\n",
       "      <td>21004.0</td>\n",
       "      <td>6555.0</td>\n",
       "      <td>585</td>\n",
       "      <td>14449.0</td>\n",
       "      <td>41686.485139</td>\n",
       "      <td>11746</td>\n",
       "      <td>2703.0</td>\n",
       "      <td>5411</td>\n",
       "    </tr>\n",
       "    <tr>\n",
       "      <th>2965</th>\n",
       "      <td>7e93a43ef30c4f03f38b393420bc753a</td>\n",
       "      <td>19323.0</td>\n",
       "      <td>4714.0</td>\n",
       "      <td>336</td>\n",
       "      <td>14609.0</td>\n",
       "      <td>29940.362661</td>\n",
       "      <td>29940</td>\n",
       "      <td>-15331.0</td>\n",
       "      <td>2708</td>\n",
       "    </tr>\n",
       "    <tr>\n",
       "      <th>2966</th>\n",
       "      <td>53243585a1d6dc2643021fd1853d8905</td>\n",
       "      <td>23238.0</td>\n",
       "      <td>5199.0</td>\n",
       "      <td>358</td>\n",
       "      <td>18039.0</td>\n",
       "      <td>0.000000</td>\n",
       "      <td>0</td>\n",
       "      <td>18039.0</td>\n",
       "      <td>0</td>\n",
       "    </tr>\n",
       "  </tbody>\n",
       "</table>\n",
       "<p>2967 rows × 9 columns</p>\n",
       "</div>"
      ],
      "text/plain": [
       "                             seller_id      rev  cost_br  n_orders  profits  \\\n",
       "0     6560211a19b47992c3666cc44a7e94c0  13770.0  35481.0      1854 -21711.0   \n",
       "1     4a3ca9315b744ce9f8e9374361493884  21647.0  39509.0      1806 -17862.0   \n",
       "2     cc419e0650a3c5ba77189a1882b7556a  11949.0  28953.0      1706 -17004.0   \n",
       "3     ea8482cd71df3c1969d7b9473ff13abc   4678.0  20309.0      1146 -15631.0   \n",
       "4     8b321bb669392f5163d04c59e235e066   2554.0  15506.0       943 -12952.0   \n",
       "...                                ...      ...      ...       ...      ...   \n",
       "2962  46dc3b2cc0980fb8ec44634e21d2718e  14571.0   7587.0       521   6984.0   \n",
       "2963  edb1ef5e36e0c8cd84eb3c9b003e486d   8808.0   1520.0       166   7288.0   \n",
       "2964  fa1c13f2614d7b5c4749cbc52fecda94  21004.0   6555.0       585  14449.0   \n",
       "2965  7e93a43ef30c4f03f38b393420bc753a  19323.0   4714.0       336  14609.0   \n",
       "2966  53243585a1d6dc2643021fd1853d8905  23238.0   5199.0       358  18039.0   \n",
       "\n",
       "           it_costs  it_costs_per_seller      p&l  cum_p&l  \n",
       "0     495335.864453                 4586 -26297.0   669580  \n",
       "1     490749.863302                 4371 -22233.0   695877  \n",
       "2     486378.079462                 2958 -19962.0   718110  \n",
       "3     483419.148956                 2448 -18079.0   738072  \n",
       "4     480970.705119                 3668 -16620.0   756151  \n",
       "...             ...                  ...      ...      ...  \n",
       "2962   60151.916198                 3560   3424.0     1219  \n",
       "2963   56591.449190                14904  -7616.0    -2205  \n",
       "2964   41686.485139                11746   2703.0     5411  \n",
       "2965   29940.362661                29940 -15331.0     2708  \n",
       "2966       0.000000                    0  18039.0        0  \n",
       "\n",
       "[2967 rows x 9 columns]"
      ]
     },
     "execution_count": 114,
     "metadata": {},
     "output_type": "execute_result"
    }
   ],
   "source": [
    "new_sellers"
   ]
  },
  {
   "cell_type": "code",
   "execution_count": 115,
   "metadata": {
    "slideshow": {
     "slide_type": "subslide"
    }
   },
   "outputs": [
    {
     "data": {
      "text/plain": [
       "<AxesSubplot:>"
      ]
     },
     "execution_count": 115,
     "metadata": {},
     "output_type": "execute_result"
    },
    {
     "data": {
      "image/png": "[encoded data removed]",
      "text/plain": [
       "<Figure size 432x288 with 1 Axes>"
      ]
     },
     "metadata": {
      "needs_background": "light"
     },
     "output_type": "display_data"
    }
   ],
   "source": [
    "cumpl = new_sellers['cum_p&l']\n",
    "cumpl.plot()"
   ]
  },
  {
   "cell_type": "code",
   "execution_count": 116,
   "metadata": {
    "slideshow": {
     "slide_type": "subslide"
    }
   },
   "outputs": [
    {
     "data": {
      "text/plain": [
       "586"
      ]
     },
     "execution_count": 116,
     "metadata": {},
     "output_type": "execute_result"
    }
   ],
   "source": [
    "cumpl.idxmax()"
   ]
  }
 ],
 "metadata": {
  "celltoolbar": "Diaporama",
  "kernelspec": {
   "display_name": "Python 3 (ipykernel)",
   "language": "python",
   "name": "python3"
  },
  "language_info": {
   "codemirror_mode": {
    "name": "ipython",
    "version": 3
   },
   "file_extension": ".py",
   "mimetype": "text/x-python",
   "name": "python",
   "nbconvert_exporter": "python",
   "pygments_lexer": "ipython3",
   "version": "3.8.12"
  },
  "toc": {
   "base_numbering": 1,
   "nav_menu": {},
   "number_sections": true,
   "sideBar": true,
   "skip_h1_title": false,
   "title_cell": "Table of Contents",
   "title_sidebar": "Contents",
   "toc_cell": false,
   "toc_position": {},
   "toc_section_display": true,
   "toc_window_display": false
  }
 },
 "nbformat": 4,
 "nbformat_minor": 4
}
